{
  "nbformat": 4,
  "nbformat_minor": 0,
  "metadata": {
    "colab": {
      "provenance": [],
      "authorship_tag": "ABX9TyNEeez/wqNgBvpdLM9dBhfQ",
      "include_colab_link": true
    },
    "kernelspec": {
      "name": "python3",
      "display_name": "Python 3"
    },
    "language_info": {
      "name": "python"
    }
  },
  "cells": [
    {
      "cell_type": "markdown",
      "metadata": {
        "id": "view-in-github",
        "colab_type": "text"
      },
      "source": [
        "<a href=\"https://colab.research.google.com/github/muharyaanandas/CNN-Waste-Classification/blob/main/Standar_CNN_1.ipynb\" target=\"_parent\"><img src=\"https://colab.research.google.com/assets/colab-badge.svg\" alt=\"Open In Colab\"/></a>"
      ]
    },
    {
      "cell_type": "code",
      "execution_count": null,
      "metadata": {
        "colab": {
          "base_uri": "https://localhost:8080/"
        },
        "id": "IjCtggv1YVUa",
        "outputId": "da5279f0-e38d-4991-8f3d-19d76e4f1fd2"
      },
      "outputs": [
        {
          "output_type": "stream",
          "name": "stdout",
          "text": [
            "Mounted at /content/drive/\n"
          ]
        }
      ],
      "source": [
        "# Load the Drive helper and mount\n",
        "from google.colab import drive\n",
        "\n",
        "# This will prompt for authorization.\n",
        "drive.mount('/content/drive/')"
      ]
    },
    {
      "cell_type": "code",
      "source": [
        "#Read all image types\n",
        "\n",
        "def list_images(basePath, contains=None):\n",
        "    # return the set of files that are valid\n",
        "    return list_files(basePath, validExts=(\".jpg\", \".jpeg\", \".png\", \".bmp\", \".tif\", \".tiff\"), contains=contains)\n",
        "\n",
        "def list_files(basePath, validExts=(\".jpg\", \".jpeg\", \".png\", \".bmp\", \".tif\", \".tiff\"), contains=None):\n",
        "    # loop over the directory structure\n",
        "    for (rootDir, dirNames, filenames) in os.walk(basePath):\n",
        "        # loop over the filenames in the current directory\n",
        "        for filename in filenames:\n",
        "            # if the contains string is not none and the filename does not contain\n",
        "            # the supplied string, then ignore the file\n",
        "            if contains is not None and filename.find(contains) == -1:\n",
        "                continue\n",
        "\n",
        "            # determine the file extension of the current file\n",
        "            ext = filename[filename.rfind(\".\"):].lower()\n",
        "\n",
        "            # check to see if the file is an image and should be processed\n",
        "            if ext.endswith(validExts):\n",
        "                # construct the path to the image and yield it\n",
        "                imagePath = os.path.join(rootDir, filename).replace(\" \", \"\\\\ \")\n",
        "                yield imagePath"
      ],
      "metadata": {
        "id": "-StxwlsIY1HF"
      },
      "execution_count": null,
      "outputs": []
    },
    {
      "cell_type": "code",
      "source": [
        "import os\n",
        "import cv2\n",
        "import glob\n",
        "import numpy as np\n",
        "import tensorflow as tf\n",
        "import matplotlib.pyplot as plt\n",
        "from sklearn.model_selection import train_test_split\n",
        "from tensorflow.keras.models import Sequential\n",
        "from tensorflow.keras.layers import Conv2D, MaxPooling2D, Flatten, Dense, Dropout, BatchNormalization\n",
        "from tensorflow.keras.optimizers import Adam\n",
        "from tensorflow.keras.utils import to_categorical\n",
        "from tensorflow.keras.callbacks import ModelCheckpoint, EarlyStopping\n",
        "from tensorflow.keras.preprocessing.image import ImageDataGenerator"
      ],
      "metadata": {
        "id": "lAhkKiLFZYVT"
      },
      "execution_count": null,
      "outputs": []
    },
    {
      "cell_type": "code",
      "source": [
        "# Function to clean up path strings\n",
        "# def clean_path(path):\n",
        "#     return path.replace(\"\\\\ \", \" \")"
      ],
      "metadata": {
        "id": "6yqR9Qdqd_Ut"
      },
      "execution_count": null,
      "outputs": []
    },
    {
      "cell_type": "code",
      "source": [
        "# Define data path (adjust to your dataset's directory structure)\n",
        "data_dir = '/content/drive/MyDrive/Klasifikasi_Sampah/Dataset'\n",
        "\n",
        "# Check if the directory exists\n",
        "if not os.path.exists(data_dir):\n",
        "    print(f\"Path {data_dir} tidak ditemukan. Pastikan path benar dan direktori ada.\")\n",
        "else:\n",
        "    print(f\"Path {data_dir} ditemukan.\")\n",
        "    dirs = os.listdir(data_dir)\n",
        "\n",
        "    # Initialize a dictionary to keep count of images in each category\n",
        "    image_counts = {}\n",
        "\n",
        "    for dir_name in dirs:\n",
        "        dir_path = os.path.join(data_dir, dir_name)\n",
        "        # Use glob to list all image files in the directory, considering common image formats\n",
        "        image_files = glob.glob(os.path.join(dir_path, '*.*'))\n",
        "        # Filter out non-image files\n",
        "        image_files = [file for file in image_files if file.lower().endswith(('.png', '.jpg', '.jpeg'))]\n",
        "        # Count the number of images\n",
        "        image_count = len(image_files)\n",
        "        # Store the count in the dictionary\n",
        "        image_counts[dir_name] = image_count\n",
        "\n",
        "    # Print the total images for each category\n",
        "    for category, count in image_counts.items():\n",
        "        print(f\"Total {category} images: {count}\")"
      ],
      "metadata": {
        "colab": {
          "base_uri": "https://localhost:8080/"
        },
        "id": "wX6OH-eHZbKj",
        "outputId": "f2f49380-a8c6-4766-cefb-b3c764f6fdc5"
      },
      "execution_count": null,
      "outputs": [
        {
          "output_type": "stream",
          "name": "stdout",
          "text": [
            "Path /content/drive/MyDrive/Klasifikasi_Sampah/Dataset ditemukan.\n",
            "Total Organik images: 100\n",
            "Total Anorganik images: 109\n",
            "Total B3 images: 101\n"
          ]
        }
      ]
    },
    {
      "cell_type": "code",
      "source": [
        "# Inisialisasi ImageDataGenerator dengan pembagian data training dan validation lebih efektif\n",
        "datagen = ImageDataGenerator(\n",
        "    rescale=1./255,\n",
        "    rotation_range=45,\n",
        "    width_shift_range=0.15,\n",
        "    height_shift_range=0.15,\n",
        "    shear_range=0.15,\n",
        "    zoom_range=0.15,\n",
        "    horizontal_flip=True,\n",
        "    fill_mode='nearest',\n",
        "    validation_split=0.25  # Meningkatkan jumlah data validasi menjadi 25%\n",
        ")"
      ],
      "metadata": {
        "id": "8ygDnhwzZkmz"
      },
      "execution_count": null,
      "outputs": []
    },
    {
      "cell_type": "code",
      "source": [
        "# Lokasi dataset\n",
        "data_dir = '/content/drive/MyDrive/Klasifikasi_Sampah/Dataset'"
      ],
      "metadata": {
        "id": "dIDtfiuItErf"
      },
      "execution_count": null,
      "outputs": []
    },
    {
      "cell_type": "code",
      "source": [
        "# Split the dataset into training and testing\n",
        "# X_train, X_test, y_train, y_test = train_test_split(images, labels, test_size=0.2, random_state=42)"
      ],
      "metadata": {
        "id": "j6ZiX_76Zm5U"
      },
      "execution_count": null,
      "outputs": []
    },
    {
      "cell_type": "code",
      "source": [
        "# Generator data training\n",
        "train_generator = datagen.flow_from_directory(\n",
        "    data_dir,\n",
        "    target_size=(150, 150),\n",
        "    batch_size=32,\n",
        "    class_mode='categorical',\n",
        "    subset='training'\n",
        ")\n",
        "\n",
        "# Generator data validation\n",
        "validation_generator = datagen.flow_from_directory(\n",
        "    data_dir,\n",
        "    target_size=(150, 150),\n",
        "    batch_size=32,\n",
        "    class_mode='categorical',\n",
        "    subset='validation'\n",
        ")"
      ],
      "metadata": {
        "colab": {
          "base_uri": "https://localhost:8080/"
        },
        "id": "2DJFrfy2tI7n",
        "outputId": "ecce1a5c-05e5-4c81-ae16-b96adff5f7fc"
      },
      "execution_count": null,
      "outputs": [
        {
          "output_type": "stream",
          "name": "stdout",
          "text": [
            "Found 233 images belonging to 3 classes.\n",
            "Found 77 images belonging to 3 classes.\n"
          ]
        }
      ]
    },
    {
      "cell_type": "code",
      "source": [
        "# Membangun model dengan penambahan Batch Normalization\n",
        "model = Sequential([\n",
        "    Conv2D(32, (3, 3), activation='relu', input_shape=(150, 150, 3)),\n",
        "    BatchNormalization(),\n",
        "    MaxPooling2D(2, 2),\n",
        "    Conv2D(64, (3, 3), activation='relu'),\n",
        "    BatchNormalization(),\n",
        "    MaxPooling2D(2, 2),\n",
        "    Conv2D(128, (3, 3), activation='relu'),\n",
        "    BatchNormalization(),\n",
        "    MaxPooling2D(2, 2),\n",
        "    Flatten(),\n",
        "    Dense(512, activation='relu'),\n",
        "    Dropout(0.5),\n",
        "    BatchNormalization(),\n",
        "    Dense(3, activation='softmax')\n",
        "])"
      ],
      "metadata": {
        "id": "YXR-nFIiZphs"
      },
      "execution_count": null,
      "outputs": []
    },
    {
      "cell_type": "code",
      "source": [
        "# Kompilasi model\n",
        "model.compile(optimizer=tf.keras.optimizers.Adam(lr=0.001), loss='categorical_crossentropy', metrics=['accuracy'])"
      ],
      "metadata": {
        "colab": {
          "base_uri": "https://localhost:8080/"
        },
        "id": "RcMbM_UmZuN8",
        "outputId": "2ddc5403-892a-435b-bb97-549600635ec7"
      },
      "execution_count": null,
      "outputs": [
        {
          "output_type": "stream",
          "name": "stderr",
          "text": [
            "WARNING:absl:`lr` is deprecated in Keras optimizer, please use `learning_rate` or use the legacy optimizer, e.g.,tf.keras.optimizers.legacy.Adam.\n"
          ]
        }
      ]
    },
    {
      "cell_type": "code",
      "source": [
        "# Callbacks untuk menyimpan model terbaik dan menghentikan jika stagnan\n",
        "callbacks = [\n",
        "    ModelCheckpoint('model.h5', save_best_only=True, verbose=1),\n",
        "    EarlyStopping(patience=15, restore_best_weights=True, verbose=1)\n",
        "]"
      ],
      "metadata": {
        "id": "-cTIjOimlcqH"
      },
      "execution_count": null,
      "outputs": []
    },
    {
      "cell_type": "code",
      "source": [
        "# Data generator\n",
        "# from tensorflow.keras.preprocessing.image import ImageDataGenerator\n",
        "# train_datagen = ImageDataGenerator(rescale=1./255)\n",
        "# validation_datagen = ImageDataGenerator(rescale=1./255)"
      ],
      "metadata": {
        "id": "-Ef94qADk0uO"
      },
      "execution_count": null,
      "outputs": []
    },
    {
      "cell_type": "code",
      "source": [
        "# Training model\n",
        "history = model.fit(\n",
        "    train_generator,\n",
        "    steps_per_epoch=train_generator.samples // train_generator.batch_size,\n",
        "    epochs=25,  # Meningkatkan jumlah epoch\n",
        "    validation_data=validation_generator,\n",
        "    validation_steps=validation_generator.samples // validation_generator.batch_size,\n",
        "    callbacks=callbacks\n",
        ")\n",
        "\n",
        "# Mencetak hasil training dan validation terbaik\n",
        "print(f\"Highest Training Accuracy: {max(history.history['accuracy'])}\")\n",
        "print(f\"Highest Validation Accuracy: {max(history.history['val_accuracy'])}\")"
      ],
      "metadata": {
        "colab": {
          "base_uri": "https://localhost:8080/"
        },
        "id": "OSF1uvmuZxoE",
        "outputId": "2d5e15b0-53ff-4159-caea-2be4f8d86fd5"
      },
      "execution_count": null,
      "outputs": [
        {
          "output_type": "stream",
          "name": "stdout",
          "text": [
            "Epoch 1/25\n",
            "7/7 [==============================] - ETA: 0s - loss: 1.6345 - accuracy: 0.4279\n",
            "Epoch 1: val_loss improved from inf to 1.15258, saving model to model.h5\n",
            "7/7 [==============================] - 61s 9s/step - loss: 1.6345 - accuracy: 0.4279 - val_loss: 1.1526 - val_accuracy: 0.3750\n",
            "Epoch 2/25\n",
            "7/7 [==============================] - ETA: 0s - loss: 1.0010 - accuracy: 0.6269\n",
            "Epoch 2: val_loss did not improve from 1.15258\n",
            "7/7 [==============================] - 58s 9s/step - loss: 1.0010 - accuracy: 0.6269 - val_loss: 1.2691 - val_accuracy: 0.3594\n",
            "Epoch 3/25\n",
            "7/7 [==============================] - ETA: 0s - loss: 0.9920 - accuracy: 0.5893\n",
            "Epoch 3: val_loss improved from 1.15258 to 1.11353, saving model to model.h5\n",
            "7/7 [==============================] - 50s 7s/step - loss: 0.9920 - accuracy: 0.5893 - val_loss: 1.1135 - val_accuracy: 0.3125\n",
            "Epoch 4/25\n",
            "7/7 [==============================] - ETA: 0s - loss: 0.8199 - accuracy: 0.6418\n",
            "Epoch 4: val_loss did not improve from 1.11353\n",
            "7/7 [==============================] - 56s 9s/step - loss: 0.8199 - accuracy: 0.6418 - val_loss: 1.1568 - val_accuracy: 0.2969\n",
            "Epoch 5/25\n",
            "7/7 [==============================] - ETA: 0s - loss: 0.7877 - accuracy: 0.6915\n",
            "Epoch 5: val_loss did not improve from 1.11353\n",
            "7/7 [==============================] - 48s 7s/step - loss: 0.7877 - accuracy: 0.6915 - val_loss: 1.2003 - val_accuracy: 0.3125\n",
            "Epoch 6/25\n",
            "7/7 [==============================] - ETA: 0s - loss: 0.7932 - accuracy: 0.6866\n",
            "Epoch 6: val_loss did not improve from 1.11353\n",
            "7/7 [==============================] - 48s 7s/step - loss: 0.7932 - accuracy: 0.6866 - val_loss: 1.2085 - val_accuracy: 0.2969\n",
            "Epoch 7/25\n",
            "7/7 [==============================] - ETA: 0s - loss: 0.8033 - accuracy: 0.6866\n",
            "Epoch 7: val_loss did not improve from 1.11353\n",
            "7/7 [==============================] - 48s 7s/step - loss: 0.8033 - accuracy: 0.6866 - val_loss: 1.2765 - val_accuracy: 0.2812\n",
            "Epoch 8/25\n",
            "7/7 [==============================] - ETA: 0s - loss: 0.8840 - accuracy: 0.6617\n",
            "Epoch 8: val_loss did not improve from 1.11353\n",
            "7/7 [==============================] - 48s 7s/step - loss: 0.8840 - accuracy: 0.6617 - val_loss: 1.3413 - val_accuracy: 0.2969\n",
            "Epoch 9/25\n",
            "7/7 [==============================] - ETA: 0s - loss: 0.6729 - accuracy: 0.7512\n",
            "Epoch 9: val_loss did not improve from 1.11353\n",
            "7/7 [==============================] - 48s 7s/step - loss: 0.6729 - accuracy: 0.7512 - val_loss: 1.5293 - val_accuracy: 0.3438\n",
            "Epoch 10/25\n",
            "7/7 [==============================] - ETA: 0s - loss: 0.7124 - accuracy: 0.7114\n",
            "Epoch 10: val_loss did not improve from 1.11353\n",
            "7/7 [==============================] - 51s 7s/step - loss: 0.7124 - accuracy: 0.7114 - val_loss: 1.6292 - val_accuracy: 0.3281\n",
            "Epoch 11/25\n",
            "7/7 [==============================] - ETA: 0s - loss: 0.6748 - accuracy: 0.6766\n",
            "Epoch 11: val_loss did not improve from 1.11353\n",
            "7/7 [==============================] - 48s 7s/step - loss: 0.6748 - accuracy: 0.6766 - val_loss: 1.3241 - val_accuracy: 0.3438\n",
            "Epoch 12/25\n",
            "7/7 [==============================] - ETA: 0s - loss: 0.7316 - accuracy: 0.7065\n",
            "Epoch 12: val_loss did not improve from 1.11353\n",
            "7/7 [==============================] - 47s 7s/step - loss: 0.7316 - accuracy: 0.7065 - val_loss: 1.3899 - val_accuracy: 0.2656\n",
            "Epoch 13/25\n",
            "7/7 [==============================] - ETA: 0s - loss: 0.7514 - accuracy: 0.6965\n",
            "Epoch 13: val_loss did not improve from 1.11353\n",
            "7/7 [==============================] - 48s 7s/step - loss: 0.7514 - accuracy: 0.6965 - val_loss: 1.4918 - val_accuracy: 0.2500\n",
            "Epoch 14/25\n",
            "7/7 [==============================] - ETA: 0s - loss: 0.6938 - accuracy: 0.7313\n",
            "Epoch 14: val_loss did not improve from 1.11353\n",
            "7/7 [==============================] - 49s 7s/step - loss: 0.6938 - accuracy: 0.7313 - val_loss: 1.4446 - val_accuracy: 0.2969\n",
            "Epoch 15/25\n",
            "7/7 [==============================] - ETA: 0s - loss: 0.6762 - accuracy: 0.7662\n",
            "Epoch 15: val_loss did not improve from 1.11353\n",
            "7/7 [==============================] - 62s 10s/step - loss: 0.6762 - accuracy: 0.7662 - val_loss: 1.3579 - val_accuracy: 0.2812\n",
            "Epoch 16/25\n",
            "7/7 [==============================] - ETA: 0s - loss: 0.5298 - accuracy: 0.7861\n",
            "Epoch 16: val_loss did not improve from 1.11353\n",
            "7/7 [==============================] - 48s 7s/step - loss: 0.5298 - accuracy: 0.7861 - val_loss: 1.3403 - val_accuracy: 0.2969\n",
            "Epoch 17/25\n",
            "7/7 [==============================] - ETA: 0s - loss: 0.5525 - accuracy: 0.7761\n",
            "Epoch 17: val_loss did not improve from 1.11353\n",
            "7/7 [==============================] - 48s 7s/step - loss: 0.5525 - accuracy: 0.7761 - val_loss: 1.2354 - val_accuracy: 0.3438\n",
            "Epoch 18/25\n",
            "7/7 [==============================] - ETA: 0s - loss: 0.5139 - accuracy: 0.7679\n",
            "Epoch 18: val_loss did not improve from 1.11353\n",
            "Restoring model weights from the end of the best epoch: 3.\n",
            "7/7 [==============================] - 52s 7s/step - loss: 0.5139 - accuracy: 0.7679 - val_loss: 1.2421 - val_accuracy: 0.4219\n",
            "Epoch 18: early stopping\n",
            "Highest Training Accuracy: 0.7860696315765381\n",
            "Highest Validation Accuracy: 0.421875\n"
          ]
        }
      ]
    },
    {
      "cell_type": "code",
      "source": [
        "# Evaluate the model\n",
        "loss, accuracy = model.evaluate(X_test, y_test)\n",
        "print(f\"Test accuracy: {accuracy * 100:.2f}%\")"
      ],
      "metadata": {
        "id": "RELu19tvZ9gU"
      },
      "execution_count": null,
      "outputs": []
    },
    {
      "cell_type": "code",
      "source": [
        "# Plot training and validation accuracy\n",
        "plt.figure(figsize=(10, 5))\n",
        "plt.subplot(1, 2, 1)\n",
        "plt.plot(history.history['accuracy'], label='Training Accuracy')\n",
        "plt.plot(history.history['val_accuracy'], label='Validation Accuracy')\n",
        "plt.title('Training and Validation Accuracy')\n",
        "plt.legend()\n",
        "\n",
        "# Plot training and validation loss\n",
        "plt.subplot(1, 2, 2)\n",
        "plt.plot(history.history['loss'], label='Training Loss')\n",
        "plt.plot(history.history['val_loss'], label='Validation Loss')\n",
        "plt.title('Training and Validation Loss')\n",
        "plt.legend()\n",
        "plt.show()"
      ],
      "metadata": {
        "colab": {
          "base_uri": "https://localhost:8080/",
          "height": 468
        },
        "id": "-M2bJQPoaEsm",
        "outputId": "f758710c-9d03-4c6d-c187-c27347da385d"
      },
      "execution_count": null,
      "outputs": [
        {
          "output_type": "display_data",
          "data": {
            "text/plain": [
              "<Figure size 1000x500 with 2 Axes>"
            ],
            "image/png": "[encoded data removed]"
          },
          "metadata": {}
        }
      ]
    }
  ]
}
