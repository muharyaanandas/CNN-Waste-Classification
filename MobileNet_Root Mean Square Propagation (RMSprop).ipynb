{
  "nbformat": 4,
  "nbformat_minor": 0,
  "metadata": {
    "colab": {
      "provenance": [],
      "authorship_tag": "ABX9TyNE7uA3fPYxwDus4p2oGHNQ",
      "include_colab_link": true
    },
    "kernelspec": {
      "name": "python3",
      "display_name": "Python 3"
    },
    "language_info": {
      "name": "python"
    }
  },
  "cells": [
    {
      "cell_type": "markdown",
      "metadata": {
        "id": "view-in-github",
        "colab_type": "text"
      },
      "source": [
        "<a href=\"https://colab.research.google.com/github/muharyaanandas/CNN-Waste-Classification/blob/main/MobileNet_Root%20Mean%20Square%20Propagation%20(RMSprop).ipynb\" target=\"_parent\"><img src=\"https://colab.research.google.com/assets/colab-badge.svg\" alt=\"Open In Colab\"/></a>"
      ]
    },
    {
      "cell_type": "code",
      "execution_count": null,
      "metadata": {
        "colab": {
          "base_uri": "https://localhost:8080/"
        },
        "id": "Bd8z1tk-vIp2",
        "outputId": "6abbe283-943d-4e89-ed7d-3b52ef3aa47c"
      },
      "outputs": [
        {
          "output_type": "stream",
          "name": "stdout",
          "text": [
            "Mounted at /content/drive/\n"
          ]
        }
      ],
      "source": [
        "# Load the Drive helper and mount\n",
        "from google.colab import drive\n",
        "\n",
        "# This will prompt for authorization.\n",
        "drive.mount('/content/drive/')"
      ]
    },
    {
      "cell_type": "code",
      "source": [
        "#Read all image types\n",
        "\n",
        "def list_images(basePath, contains=None):\n",
        "    # return the set of files that are valid\n",
        "    return list_files(basePath, validExts=(\".jpg\", \".jpeg\", \".png\", \".bmp\", \".tif\", \".tiff\"), contains=contains)\n",
        "\n",
        "def list_files(basePath, validExts=(\".jpg\", \".jpeg\", \".png\", \".bmp\", \".tif\", \".tiff\"), contains=None):\n",
        "    # loop over the directory structure\n",
        "    for (rootDir, dirNames, filenames) in os.walk(basePath):\n",
        "        # loop over the filenames in the current directory\n",
        "        for filename in filenames:\n",
        "            # if the contains string is not none and the filename does not contain\n",
        "            # the supplied string, then ignore the file\n",
        "            if contains is not None and filename.find(contains) == -1:\n",
        "                continue\n",
        "\n",
        "            # determine the file extension of the current file\n",
        "            ext = filename[filename.rfind(\".\"):].lower()\n",
        "\n",
        "            # check to see if the file is an image and should be processed\n",
        "            if ext.endswith(validExts):\n",
        "                # construct the path to the image and yield it\n",
        "                imagePath = os.path.join(rootDir, filename).replace(\" \", \"\\\\ \")\n",
        "                yield imagePath"
      ],
      "metadata": {
        "id": "Mq2IC8FivkDV"
      },
      "execution_count": null,
      "outputs": []
    },
    {
      "cell_type": "code",
      "source": [
        "import os\n",
        "import glob\n",
        "import cv2\n",
        "import numpy as np\n",
        "import matplotlib.pyplot as plt\n",
        "import tensorflow as tf\n",
        "from tensorflow.keras.models import Sequential\n",
        "from tensorflow.keras.layers import GlobalAveragePooling2D, Dense, Dropout\n",
        "from tensorflow.keras.optimizers import RMSprop\n",
        "from tensorflow.keras.callbacks import ModelCheckpoint, EarlyStopping, ReduceLROnPlateau\n",
        "from tensorflow.keras.applications import MobileNet\n",
        "from tensorflow.keras.preprocessing.image import ImageDataGenerator\n",
        "from sklearn.model_selection import train_test_split\n",
        "from sklearn.metrics import classification_report, accuracy_score\n",
        "from tensorflow.keras.utils import to_categorical\n",
        "from sklearn.preprocessing import LabelBinarizer"
      ],
      "metadata": {
        "id": "xn50ag_rvq0z"
      },
      "execution_count": null,
      "outputs": []
    },
    {
      "cell_type": "code",
      "source": [
        "# Define data path\n",
        "data_dir = '/content/drive/MyDrive/Klasifikasi_Sampah/Dataset'\n",
        "dirs = os.listdir(data_dir)\n",
        "\n",
        "# Initialize a dictionary to store image counts\n",
        "image_counts = {}\n",
        "\n",
        "# Load images and labels\n",
        "data_list = []\n",
        "labels = []\n",
        "class_label = 0\n",
        "for dir_name in dirs:\n",
        "    path = os.path.join(data_dir, dir_name)\n",
        "    image_files = glob.glob(os.path.join(path, '*'))\n",
        "    image_count = 0\n",
        "    for image_file in image_files:\n",
        "        img = cv2.imread(image_file)\n",
        "        if img is not None:\n",
        "            img = cv2.cvtColor(img, cv2.COLOR_BGR2RGB)\n",
        "            img = cv2.resize(img, (224, 224))\n",
        "            data_list.append(img)\n",
        "            labels.append(class_label)\n",
        "            image_count += 1\n",
        "    image_counts[dir_name] = image_count  # Store the count of images per category\n",
        "    class_label += 1\n",
        "\n",
        "# Print the total images for each category\n",
        "for category, count in image_counts.items():\n",
        "    print(f\"Total {category} images: {count}\")\n",
        "\n",
        "data_array = np.array(data_list) / 255.0\n",
        "labels_array = np.array(labels)"
      ],
      "metadata": {
        "colab": {
          "base_uri": "https://localhost:8080/"
        },
        "id": "v30o8rAuvwlm",
        "outputId": "d5bb9488-696e-4b81-8fde-4fbd7953ff96"
      },
      "execution_count": null,
      "outputs": [
        {
          "output_type": "stream",
          "name": "stdout",
          "text": [
            "Total Organik images: 100\n",
            "Total Anorganik images: 109\n",
            "Total B3 images: 101\n"
          ]
        }
      ]
    },
    {
      "cell_type": "code",
      "source": [
        "# Encode labels\n",
        "label_binarizer = LabelBinarizer()\n",
        "encoded_labels = label_binarizer.fit_transform(labels_array)\n",
        "\n",
        "# Splitting dataset\n",
        "X_train, X_test, Y_train, Y_test = train_test_split(data_array, encoded_labels, test_size=0.2, stratify=encoded_labels, random_state=24)\n",
        "\n",
        "# Augmentasi data\n",
        "datagen = ImageDataGenerator(\n",
        "    rotation_range=30,\n",
        "    zoom_range=0.2,\n",
        "    width_shift_range=0.2,\n",
        "    height_shift_range=0.2,\n",
        "    shear_range=0.2,\n",
        "    horizontal_flip=True,\n",
        "    fill_mode=\"nearest\"\n",
        ")\n",
        "datagen.fit(X_train)"
      ],
      "metadata": {
        "id": "RX6-Vu0Vv0nn"
      },
      "execution_count": null,
      "outputs": []
    },
    {
      "cell_type": "code",
      "source": [
        "# Model MobileNet\n",
        "base_model = MobileNet(weights='imagenet', include_top=False, input_shape=(224, 224, 3))\n",
        "base_model.trainable = True  # Unfreeze the base model for fine-tuning\n",
        "\n",
        "# Membangun model di atas MobileNet\n",
        "model = Sequential([\n",
        "    base_model,\n",
        "    GlobalAveragePooling2D(),\n",
        "    Dense(512, activation='relu'),\n",
        "    Dropout(0.5),\n",
        "    Dense(256, activation='relu'),\n",
        "    Dropout(0.5),\n",
        "    Dense(3, activation='softmax')\n",
        "])"
      ],
      "metadata": {
        "colab": {
          "base_uri": "https://localhost:8080/"
        },
        "id": "95IhqaA2v4I3",
        "outputId": "72dca7f9-678d-4248-ec1b-790f1debf681"
      },
      "execution_count": null,
      "outputs": [
        {
          "output_type": "stream",
          "name": "stdout",
          "text": [
            "Downloading data from https://storage.googleapis.com/tensorflow/keras-applications/mobilenet/mobilenet_1_0_224_tf_no_top.h5\n",
            "17225924/17225924 [==============================] - 0s 0us/step\n"
          ]
        }
      ]
    },
    {
      "cell_type": "code",
      "source": [
        "# Kompilasi model dengan optimizer RMSprop\n",
        "model.compile(\n",
        "    optimizer=RMSprop(learning_rate=0.0001),\n",
        "    loss='categorical_crossentropy',\n",
        "    metrics=['accuracy']\n",
        ")"
      ],
      "metadata": {
        "id": "dwQLmh8fv7Zn"
      },
      "execution_count": null,
      "outputs": []
    },
    {
      "cell_type": "code",
      "source": [
        "# Callbacks\n",
        "checkpoint_filepath = '/content/drive/MyDrive/Klasifikasi_Sampah/MobileNet/Epoch_10_RMSprop/Model2.hdf5'\n",
        "save_model = ModelCheckpoint(filepath=checkpoint_filepath, save_best_only=True, monitor='val_accuracy', mode='max')\n",
        "early_stopping = EarlyStopping(monitor='val_loss', patience=15, restore_best_weights=True)\n",
        "reduce_lr = ReduceLROnPlateau(monitor='val_loss', factor=0.2, patience=5, min_lr=0.00001)\n",
        "\n",
        "# Melatih model\n",
        "history = model.fit(\n",
        "    datagen.flow(X_train, Y_train, batch_size=32),\n",
        "    validation_data=(X_test, Y_test),\n",
        "    epochs=10,\n",
        "    callbacks=[save_model, early_stopping, reduce_lr]\n",
        ")"
      ],
      "metadata": {
        "colab": {
          "base_uri": "https://localhost:8080/"
        },
        "id": "PfD74r9kv-yO",
        "outputId": "8d52ac2f-9eb4-421a-8b02-4f3139e2ae46"
      },
      "execution_count": null,
      "outputs": [
        {
          "output_type": "stream",
          "name": "stdout",
          "text": [
            "Epoch 1/10\n",
            "8/8 [==============================] - ETA: 0s - loss: 1.4455 - accuracy: 0.4113"
          ]
        },
        {
          "output_type": "stream",
          "name": "stderr",
          "text": [
            "/usr/local/lib/python3.10/dist-packages/keras/src/engine/training.py:3103: UserWarning: You are saving your model as an HDF5 file via `model.save()`. This file format is considered legacy. We recommend using instead the native Keras format, e.g. `model.save('my_model.keras')`.\n",
            "  saving_api.save_model(\n"
          ]
        },
        {
          "output_type": "stream",
          "name": "stdout",
          "text": [
            "\b\b\b\b\b\b\b\b\b\b\b\b\b\b\b\b\b\b\b\b\b\b\b\b\b\b\b\b\b\b\b\b\b\b\b\b\b\b\b\b\b\b\b\b\b\b\b\b\b\b\b\b\b\b\b\b\b\b\b\b\b\b\b\b\b\b\b\b\b\b\b\b\b\b\b\b\b\b\b\b\r8/8 [==============================] - 61s 7s/step - loss: 1.4455 - accuracy: 0.4113 - val_loss: 1.0872 - val_accuracy: 0.4032 - lr: 1.0000e-04\n",
            "Epoch 2/10\n",
            "8/8 [==============================] - 54s 7s/step - loss: 1.0141 - accuracy: 0.5444 - val_loss: 1.0114 - val_accuracy: 0.4677 - lr: 1.0000e-04\n",
            "Epoch 3/10\n",
            "8/8 [==============================] - 53s 6s/step - loss: 0.8921 - accuracy: 0.6008 - val_loss: 0.8934 - val_accuracy: 0.5000 - lr: 1.0000e-04\n",
            "Epoch 4/10\n",
            "8/8 [==============================] - 55s 7s/step - loss: 0.7377 - accuracy: 0.6694 - val_loss: 0.8933 - val_accuracy: 0.5484 - lr: 1.0000e-04\n",
            "Epoch 5/10\n",
            "8/8 [==============================] - 58s 7s/step - loss: 0.7199 - accuracy: 0.6935 - val_loss: 0.9159 - val_accuracy: 0.5484 - lr: 1.0000e-04\n",
            "Epoch 6/10\n",
            "8/8 [==============================] - 54s 7s/step - loss: 0.5796 - accuracy: 0.7339 - val_loss: 0.7933 - val_accuracy: 0.6452 - lr: 1.0000e-04\n",
            "Epoch 7/10\n",
            "8/8 [==============================] - 56s 7s/step - loss: 0.5626 - accuracy: 0.7661 - val_loss: 0.7246 - val_accuracy: 0.6613 - lr: 1.0000e-04\n",
            "Epoch 8/10\n",
            "8/8 [==============================] - 54s 7s/step - loss: 0.4381 - accuracy: 0.8105 - val_loss: 0.7089 - val_accuracy: 0.6935 - lr: 1.0000e-04\n",
            "Epoch 9/10\n",
            "8/8 [==============================] - 56s 7s/step - loss: 0.4160 - accuracy: 0.8266 - val_loss: 0.7180 - val_accuracy: 0.7097 - lr: 1.0000e-04\n",
            "Epoch 10/10\n",
            "8/8 [==============================] - 51s 6s/step - loss: 0.3429 - accuracy: 0.8589 - val_loss: 0.7757 - val_accuracy: 0.6774 - lr: 1.0000e-04\n"
          ]
        }
      ]
    },
    {
      "cell_type": "code",
      "source": [
        "# Evaluasi model\n",
        "best_model = tf.keras.models.load_model(checkpoint_filepath)\n",
        "pred_test = best_model.predict(X_test)\n",
        "pred_test_labels = np.argmax(pred_test, axis=1)\n",
        "y_test_labels = np.argmax(Y_test, axis=1)\n",
        "\n",
        "print(classification_report(y_test_labels, pred_test_labels))\n",
        "print(\"Accuracy on test set: \", accuracy_score(y_test_labels, pred_test_labels))"
      ],
      "metadata": {
        "colab": {
          "base_uri": "https://localhost:8080/"
        },
        "id": "OZ80OliWwCrl",
        "outputId": "2a8821fc-6e4e-4358-de84-15e3f093bbb1"
      },
      "execution_count": null,
      "outputs": [
        {
          "output_type": "stream",
          "name": "stdout",
          "text": [
            "2/2 [==============================] - 3s 983ms/step\n",
            "              precision    recall  f1-score   support\n",
            "\n",
            "           0       0.88      0.70      0.78        20\n",
            "           1       1.00      0.50      0.67        22\n",
            "           2       0.54      0.95      0.69        20\n",
            "\n",
            "    accuracy                           0.71        62\n",
            "   macro avg       0.81      0.72      0.71        62\n",
            "weighted avg       0.81      0.71      0.71        62\n",
            "\n",
            "Accuracy on test set:  0.7096774193548387\n"
          ]
        }
      ]
    },
    {
      "cell_type": "code",
      "source": [
        "# Convert the model to TFLite format\n",
        "converter = tf.lite.TFLiteConverter.from_keras_model(best_model)\n",
        "tflite_model = converter.convert()\n",
        "\n",
        "# Save the TFLite model to file\n",
        "tflite_model_filepath = '/content/drive/MyDrive/Klasifikasi_Sampah/MobileNet/Epoch_10_RMSprop/model.tflite'\n",
        "with open(tflite_model_filepath, 'wb') as file:\n",
        "    file.write(tflite_model)\n",
        "\n",
        "print(f\"Model saved as .hdf5 at {checkpoint_filepath}\")\n",
        "print(f\"Model saved as .tflite at {tflite_model_filepath}\")"
      ],
      "metadata": {
        "colab": {
          "base_uri": "https://localhost:8080/"
        },
        "id": "6b-CUC9DwFuL",
        "outputId": "4599c7e0-59cf-4c2a-df9d-6ae070d84f09"
      },
      "execution_count": null,
      "outputs": [
        {
          "output_type": "stream",
          "name": "stderr",
          "text": [
            "WARNING:absl:`mobilenet_1.00_224_input` is not a valid tf.function parameter name. Sanitizing to `mobilenet_1_00_224_input`.\n",
            "WARNING:absl:`mobilenet_1.00_224_input` is not a valid tf.function parameter name. Sanitizing to `mobilenet_1_00_224_input`.\n",
            "WARNING:absl:`mobilenet_1.00_224_input` is not a valid tf.function parameter name. Sanitizing to `mobilenet_1_00_224_input`.\n"
          ]
        },
        {
          "output_type": "stream",
          "name": "stdout",
          "text": [
            "Model saved as .hdf5 at /content/drive/MyDrive/Klasifikasi_Sampah/MobileNet/Epoch_10_RMSprop/Model2.hdf5\n",
            "Model saved as .tflite at /content/drive/MyDrive/Klasifikasi_Sampah/MobileNet/Epoch_10_RMSprop/model.tflite\n"
          ]
        }
      ]
    }
  ]
}