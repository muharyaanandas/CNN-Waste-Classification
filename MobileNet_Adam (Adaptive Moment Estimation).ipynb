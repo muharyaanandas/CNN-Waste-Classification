{
  "nbformat": 4,
  "nbformat_minor": 0,
  "metadata": {
    "colab": {
      "provenance": [],
      "authorship_tag": "ABX9TyNk3337xGnYFv5dZupII91g",
      "include_colab_link": true
    },
    "kernelspec": {
      "name": "python3",
      "display_name": "Python 3"
    },
    "language_info": {
      "name": "python"
    }
  },
  "cells": [
    {
      "cell_type": "markdown",
      "metadata": {
        "id": "view-in-github",
        "colab_type": "text"
      },
      "source": [
        "<a href=\"https://colab.research.google.com/github/muharyaanandas/CNN-Waste-Classification/blob/main/MobileNet_Adam%20(Adaptive%20Moment%20Estimation).ipynb\" target=\"_parent\"><img src=\"https://colab.research.google.com/assets/colab-badge.svg\" alt=\"Open In Colab\"/></a>"
      ]
    },
    {
      "cell_type": "code",
      "execution_count": null,
      "metadata": {
        "colab": {
          "base_uri": "https://localhost:8080/"
        },
        "id": "fmh9qWzqjynB",
        "outputId": "0b97e95a-571e-406f-8c19-309022b9e034"
      },
      "outputs": [
        {
          "output_type": "stream",
          "name": "stdout",
          "text": [
            "Drive already mounted at /content/drive/; to attempt to forcibly remount, call drive.mount(\"/content/drive/\", force_remount=True).\n"
          ]
        }
      ],
      "source": [
        "# Load the Drive helper and mount\n",
        "from google.colab import drive\n",
        "\n",
        "# This will prompt for authorization.\n",
        "drive.mount('/content/drive/')"
      ]
    },
    {
      "cell_type": "code",
      "source": [
        "#Read all image types\n",
        "\n",
        "def list_images(basePath, contains=None):\n",
        "    # return the set of files that are valid\n",
        "    return list_files(basePath, validExts=(\".jpg\", \".jpeg\", \".png\", \".bmp\", \".tif\", \".tiff\"), contains=contains)\n",
        "\n",
        "def list_files(basePath, validExts=(\".jpg\", \".jpeg\", \".png\", \".bmp\", \".tif\", \".tiff\"), contains=None):\n",
        "    # loop over the directory structure\n",
        "    for (rootDir, dirNames, filenames) in os.walk(basePath):\n",
        "        # loop over the filenames in the current directory\n",
        "        for filename in filenames:\n",
        "            # if the contains string is not none and the filename does not contain\n",
        "            # the supplied string, then ignore the file\n",
        "            if contains is not None and filename.find(contains) == -1:\n",
        "                continue\n",
        "\n",
        "            # determine the file extension of the current file\n",
        "            ext = filename[filename.rfind(\".\"):].lower()\n",
        "\n",
        "            # check to see if the file is an image and should be processed\n",
        "            if ext.endswith(validExts):\n",
        "                # construct the path to the image and yield it\n",
        "                imagePath = os.path.join(rootDir, filename).replace(\" \", \"\\\\ \")\n",
        "                yield imagePath"
      ],
      "metadata": {
        "id": "lzV0qHqAk063"
      },
      "execution_count": null,
      "outputs": []
    },
    {
      "cell_type": "code",
      "source": [
        "import os\n",
        "import glob\n",
        "import cv2\n",
        "import numpy as np\n",
        "import matplotlib.pyplot as plt\n",
        "import tensorflow as tf\n",
        "from tensorflow.keras.models import Sequential\n",
        "from tensorflow.keras.layers import GlobalAveragePooling2D, Dense, Dropout\n",
        "from tensorflow.keras.optimizers import Adam\n",
        "from tensorflow.keras.callbacks import ModelCheckpoint, EarlyStopping, ReduceLROnPlateau\n",
        "from tensorflow.keras.applications import MobileNet\n",
        "from tensorflow.keras.preprocessing.image import ImageDataGenerator\n",
        "from sklearn.model_selection import train_test_split\n",
        "from sklearn.metrics import classification_report, accuracy_score\n",
        "from tensorflow.keras.utils import to_categorical\n",
        "from sklearn.preprocessing import LabelBinarizer"
      ],
      "metadata": {
        "id": "5srJHv2Qk3wq"
      },
      "execution_count": null,
      "outputs": []
    },
    {
      "cell_type": "code",
      "source": [
        "# Define data path\n",
        "data_dir = '/content/drive/MyDrive/Klasifikasi_Sampah/Dataset'\n",
        "dirs = os.listdir(data_dir)\n",
        "\n",
        "# Initialize a dictionary to store image counts\n",
        "image_counts = {}\n",
        "\n",
        "# Load images and labels\n",
        "data_list = []\n",
        "labels = []\n",
        "class_label = 0\n",
        "for dir_name in dirs:\n",
        "    path = os.path.join(data_dir, dir_name)\n",
        "    image_files = glob.glob(os.path.join(path, '*'))\n",
        "    image_count = 0\n",
        "    for image_file in image_files:\n",
        "        img = cv2.imread(image_file)\n",
        "        if img is not None:\n",
        "            img = cv2.cvtColor(img, cv2.COLOR_BGR2RGB)\n",
        "            img = cv2.resize(img, (224, 224))\n",
        "            data_list.append(img)\n",
        "            labels.append(class_label)\n",
        "            image_count += 1\n",
        "    image_counts[dir_name] = image_count  # Store the count of images per category\n",
        "    class_label += 1\n",
        "\n",
        "# Print the total images for each category\n",
        "for category, count in image_counts.items():\n",
        "    print(f\"Total {category} images: {count}\")\n",
        "\n",
        "data_array = np.array(data_list) / 255.0\n",
        "labels_array = np.array(labels)"
      ],
      "metadata": {
        "colab": {
          "base_uri": "https://localhost:8080/"
        },
        "id": "x6fxIFP8k6j0",
        "outputId": "98ed26cd-8e25-4bea-ad7d-d47dcdbd1a3a"
      },
      "execution_count": null,
      "outputs": [
        {
          "output_type": "stream",
          "name": "stdout",
          "text": [
            "Total Organik images: 100\n",
            "Total Anorganik images: 109\n",
            "Total B3 images: 101\n"
          ]
        }
      ]
    },
    {
      "cell_type": "code",
      "source": [
        "# Encode labels\n",
        "label_binarizer = LabelBinarizer()\n",
        "encoded_labels = label_binarizer.fit_transform(labels_array)\n",
        "\n",
        "# Splitting dataset\n",
        "X_train, X_test, Y_train, Y_test = train_test_split(data_array, encoded_labels, test_size=0.2, stratify=encoded_labels, random_state=24)\n",
        "\n",
        "# Augmentasi data\n",
        "datagen = ImageDataGenerator(\n",
        "    rotation_range=30,\n",
        "    zoom_range=0.2,\n",
        "    width_shift_range=0.2,\n",
        "    height_shift_range=0.2,\n",
        "    shear_range=0.2,\n",
        "    horizontal_flip=True,\n",
        "    fill_mode=\"nearest\"\n",
        ")\n",
        "datagen.fit(X_train)\n",
        "\n",
        "# Model MobileNet\n",
        "base_model = MobileNet(weights='imagenet', include_top=False, input_shape=(224, 224, 3))\n",
        "base_model.trainable = True  # Unfreeze the base model for fine-tuning\n",
        "\n",
        "# Membangun model di atas MobileNet\n",
        "model = Sequential([\n",
        "    base_model,\n",
        "    GlobalAveragePooling2D(),\n",
        "    Dense(512, activation='relu'),\n",
        "    Dropout(0.5),\n",
        "    Dense(256, activation='relu'),\n",
        "    Dropout(0.5),\n",
        "    Dense(3, activation='softmax')\n",
        "])"
      ],
      "metadata": {
        "id": "xbyPnRQclAvb",
        "colab": {
          "base_uri": "https://localhost:8080/"
        },
        "outputId": "87955162-546a-439f-d55c-d1a413be0190"
      },
      "execution_count": null,
      "outputs": [
        {
          "output_type": "stream",
          "name": "stdout",
          "text": [
            "Downloading data from https://storage.googleapis.com/tensorflow/keras-applications/mobilenet/mobilenet_1_0_224_tf_no_top.h5\n",
            "17225924/17225924 [==============================] - 0s 0us/step\n"
          ]
        }
      ]
    },
    {
      "cell_type": "code",
      "source": [
        "# Kompilasi model\n",
        "model.compile(\n",
        "    optimizer=Adam(learning_rate=0.0001),\n",
        "    loss='categorical_crossentropy',\n",
        "    metrics=['accuracy']\n",
        ")"
      ],
      "metadata": {
        "id": "ruRZzf6clHR7"
      },
      "execution_count": null,
      "outputs": []
    },
    {
      "cell_type": "code",
      "source": [
        "# Callbacks\n",
        "checkpoint_filepath = '/content/drive/MyDrive/Klasifikasi_Sampah/MobileNet/Epoch_25_Adam/Model2.hdf5'\n",
        "save_model = ModelCheckpoint(filepath=checkpoint_filepath, save_best_only=True, monitor='val_accuracy', mode='max')\n",
        "reduce_lr = ReduceLROnPlateau(monitor='val_loss', factor=0.2, patience=5, min_lr=0.00001)\n",
        "\n",
        "# Melatih model\n",
        "history = model.fit(\n",
        "    datagen.flow(X_train, Y_train, batch_size=32),\n",
        "    validation_data=(X_test, Y_test),\n",
        "    epochs=25,\n",
        "    callbacks=[save_model, reduce_lr]\n",
        ")\n",
        "\n",
        "print(\"Highest Training Accuracy:\", max(history.history['accuracy']))\n",
        "print(\"Highest Validation Accuracy:\", max(history.history['val_accuracy']))"
      ],
      "metadata": {
        "colab": {
          "base_uri": "https://localhost:8080/"
        },
        "id": "1VbD_gK9lK85",
        "outputId": "3a6a9998-d866-4afb-87ee-ed8c3e418fdd"
      },
      "execution_count": null,
      "outputs": [
        {
          "metadata": {
            "tags": null
          },
          "name": "stdout",
          "output_type": "stream",
          "text": [
            "Epoch 1/25\n",
            "8/8 [==============================] - ETA: 0s - loss: 1.4900 - accuracy: 0.3911"
          ]
        },
        {
          "metadata": {
            "tags": null
          },
          "name": "stderr",
          "output_type": "stream",
          "text": [
            "/usr/local/lib/python3.10/dist-packages/keras/src/engine/training.py:3103: UserWarning: You are saving your model as an HDF5 file via `model.save()`. This file format is considered legacy. We recommend using instead the native Keras format, e.g. `model.save('my_model.keras')`.\n",
            "  saving_api.save_model(\n"
          ]
        },
        {
          "output_type": "stream",
          "name": "stdout",
          "text": [
            "8/8 [==============================] - 70s 7s/step - loss: 1.4900 - accuracy: 0.3911 - val_loss: 1.0235 - val_accuracy: 0.5000 - lr: 1.0000e-04\n",
            "Epoch 2/25\n",
            "8/8 [==============================] - 62s 8s/step - loss: 1.1897 - accuracy: 0.4798 - val_loss: 1.0381 - val_accuracy: 0.4677 - lr: 1.0000e-04\n",
            "Epoch 3/25\n",
            "8/8 [==============================] - 61s 7s/step - loss: 1.0886 - accuracy: 0.5081 - val_loss: 1.0496 - val_accuracy: 0.4516 - lr: 1.0000e-04\n",
            "Epoch 4/25\n",
            "8/8 [==============================] - 60s 8s/step - loss: 0.8751 - accuracy: 0.6331 - val_loss: 0.9727 - val_accuracy: 0.5323 - lr: 1.0000e-04\n",
            "Epoch 5/25\n",
            "8/8 [==============================] - 56s 7s/step - loss: 0.7263 - accuracy: 0.6694 - val_loss: 0.9486 - val_accuracy: 0.5323 - lr: 1.0000e-04\n",
            "Epoch 6/25\n",
            "8/8 [==============================] - 58s 8s/step - loss: 0.6420 - accuracy: 0.7218 - val_loss: 0.9035 - val_accuracy: 0.5484 - lr: 1.0000e-04\n",
            "Epoch 7/25\n",
            "8/8 [==============================] - 60s 8s/step - loss: 0.5760 - accuracy: 0.7621 - val_loss: 0.8419 - val_accuracy: 0.6129 - lr: 1.0000e-04\n",
            "Epoch 8/25\n",
            "8/8 [==============================] - 58s 7s/step - loss: 0.5317 - accuracy: 0.7903 - val_loss: 0.7869 - val_accuracy: 0.6452 - lr: 1.0000e-04\n",
            "Epoch 9/25\n",
            "8/8 [==============================] - 59s 7s/step - loss: 0.5034 - accuracy: 0.7702 - val_loss: 0.6961 - val_accuracy: 0.6774 - lr: 1.0000e-04\n",
            "Epoch 10/25\n",
            "8/8 [==============================] - 59s 7s/step - loss: 0.4449 - accuracy: 0.8024 - val_loss: 0.6597 - val_accuracy: 0.7097 - lr: 1.0000e-04\n",
            "Epoch 11/25\n",
            "8/8 [==============================] - 56s 7s/step - loss: 0.4750 - accuracy: 0.8226 - val_loss: 0.6058 - val_accuracy: 0.7258 - lr: 1.0000e-04\n",
            "Epoch 12/25\n",
            "8/8 [==============================] - 59s 7s/step - loss: 0.3421 - accuracy: 0.8548 - val_loss: 0.5632 - val_accuracy: 0.7581 - lr: 1.0000e-04\n",
            "Epoch 13/25\n",
            "8/8 [==============================] - 61s 8s/step - loss: 0.3309 - accuracy: 0.8589 - val_loss: 0.5369 - val_accuracy: 0.7903 - lr: 1.0000e-04\n",
            "Epoch 14/25\n",
            "8/8 [==============================] - 58s 7s/step - loss: 0.2873 - accuracy: 0.8992 - val_loss: 0.5368 - val_accuracy: 0.8065 - lr: 1.0000e-04\n",
            "Epoch 15/25\n",
            "8/8 [==============================] - 59s 7s/step - loss: 0.2371 - accuracy: 0.9194 - val_loss: 0.5195 - val_accuracy: 0.8065 - lr: 1.0000e-04\n",
            "Epoch 16/25\n",
            "8/8 [==============================] - 58s 7s/step - loss: 0.2407 - accuracy: 0.8992 - val_loss: 0.5159 - val_accuracy: 0.8065 - lr: 1.0000e-04\n",
            "Epoch 17/25\n",
            "8/8 [==============================] - 53s 7s/step - loss: 0.2437 - accuracy: 0.9153 - val_loss: 0.4941 - val_accuracy: 0.8065 - lr: 1.0000e-04\n",
            "Epoch 18/25\n",
            "8/8 [==============================] - 58s 7s/step - loss: 0.2002 - accuracy: 0.9194 - val_loss: 0.4822 - val_accuracy: 0.8065 - lr: 1.0000e-04\n",
            "Epoch 19/25\n",
            "8/8 [==============================] - 54s 7s/step - loss: 0.2176 - accuracy: 0.9113 - val_loss: 0.4786 - val_accuracy: 0.7903 - lr: 1.0000e-04\n",
            "Epoch 20/25\n",
            "8/8 [==============================] - 52s 7s/step - loss: 0.1488 - accuracy: 0.9435 - val_loss: 0.4781 - val_accuracy: 0.8065 - lr: 1.0000e-04\n",
            "Epoch 21/25\n",
            "8/8 [==============================] - 57s 7s/step - loss: 0.1337 - accuracy: 0.9516 - val_loss: 0.4822 - val_accuracy: 0.8065 - lr: 1.0000e-04\n",
            "Epoch 22/25\n",
            "8/8 [==============================] - 56s 7s/step - loss: 0.1582 - accuracy: 0.9556 - val_loss: 0.4759 - val_accuracy: 0.8387 - lr: 1.0000e-04\n",
            "Epoch 23/25\n",
            "8/8 [==============================] - 56s 7s/step - loss: 0.1264 - accuracy: 0.9597 - val_loss: 0.4799 - val_accuracy: 0.8387 - lr: 1.0000e-04\n",
            "Epoch 24/25\n",
            "8/8 [==============================] - 60s 8s/step - loss: 0.1241 - accuracy: 0.9597 - val_loss: 0.4792 - val_accuracy: 0.8387 - lr: 1.0000e-04\n",
            "Epoch 25/25\n",
            "8/8 [==============================] - 53s 7s/step - loss: 0.0866 - accuracy: 0.9718 - val_loss: 0.4859 - val_accuracy: 0.8065 - lr: 1.0000e-04\n",
            "Highest Training Accuracy: 0.9717742204666138\n",
            "Highest Validation Accuracy: 0.8387096524238586\n"
          ]
        }
      ]
    },
    {
      "cell_type": "code",
      "source": [
        "# Evaluasi model\n",
        "best_model = tf.keras.models.load_model(checkpoint_filepath)\n",
        "pred_test = best_model.predict(X_test)\n",
        "pred_test_labels = np.argmax(pred_test, axis=1)\n",
        "y_test_labels = np.argmax(Y_test, axis=1)\n",
        "\n",
        "print(classification_report(y_test_labels, pred_test_labels))\n",
        "print(\"Accuracy : \", accuracy_score(y_test_labels, pred_test_labels))"
      ],
      "metadata": {
        "colab": {
          "base_uri": "https://localhost:8080/"
        },
        "id": "6HajfXpflPJC",
        "outputId": "742e39ea-49ad-4885-ba99-f50cee7c98e5"
      },
      "execution_count": null,
      "outputs": [
        {
          "output_type": "stream",
          "name": "stdout",
          "text": [
            "2/2 [==============================] - 6s 3s/step\n",
            "              precision    recall  f1-score   support\n",
            "\n",
            "           0       0.90      0.90      0.90        20\n",
            "           1       0.76      0.86      0.81        22\n",
            "           2       0.88      0.75      0.81        20\n",
            "\n",
            "    accuracy                           0.84        62\n",
            "   macro avg       0.85      0.84      0.84        62\n",
            "weighted avg       0.84      0.84      0.84        62\n",
            "\n",
            "Accuracy :  0.8387096774193549\n"
          ]
        }
      ]
    },
    {
      "cell_type": "code",
      "source": [
        "# Convert the model to TFLite format\n",
        "converter = tf.lite.TFLiteConverter.from_keras_model(best_model)\n",
        "tflite_model = converter.convert()\n",
        "\n",
        "# Save the TFLite model to file\n",
        "tflite_model_filepath = '/content/drive/MyDrive/Klasifikasi_Sampah/MobileNet/Epoch_25_Adam/model.tflite'\n",
        "with open(tflite_model_filepath, 'wb') as file:\n",
        "    file.write(tflite_model)\n",
        "\n",
        "print(f\"Model saved as .hdf5 at {checkpoint_filepath}\")\n",
        "print(f\"Model saved as .tflite at {tflite_model_filepath}\")"
      ],
      "metadata": {
        "colab": {
          "base_uri": "https://localhost:8080/"
        },
        "id": "tgbYYjVTlS45",
        "outputId": "99e80fb4-15fc-4070-de41-a07d8f3ef2e2"
      },
      "execution_count": null,
      "outputs": [
        {
          "output_type": "stream",
          "name": "stderr",
          "text": [
            "WARNING:absl:`mobilenet_1.00_224_input` is not a valid tf.function parameter name. Sanitizing to `mobilenet_1_00_224_input`.\n",
            "WARNING:absl:`mobilenet_1.00_224_input` is not a valid tf.function parameter name. Sanitizing to `mobilenet_1_00_224_input`.\n",
            "WARNING:absl:`mobilenet_1.00_224_input` is not a valid tf.function parameter name. Sanitizing to `mobilenet_1_00_224_input`.\n"
          ]
        },
        {
          "output_type": "stream",
          "name": "stdout",
          "text": [
            "Model saved as .hdf5 at /content/drive/MyDrive/Klasifikasi_Sampah/MobileNet/Epoch_25_Adam/Model2.hdf5\n",
            "Model saved as .tflite at /content/drive/MyDrive/Klasifikasi_Sampah/MobileNet/Epoch_25_Adam/model.tflite\n"
          ]
        }
      ]
    }
  ]
}