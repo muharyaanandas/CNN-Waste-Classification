{
  "nbformat": 4,
  "nbformat_minor": 0,
  "metadata": {
    "colab": {
      "provenance": [],
      "authorship_tag": "ABX9TyPnxBUedr+bJWnzQvsuB6j8",
      "include_colab_link": true
    },
    "kernelspec": {
      "name": "python3",
      "display_name": "Python 3"
    },
    "language_info": {
      "name": "python"
    }
  },
  "cells": [
    {
      "cell_type": "markdown",
      "metadata": {
        "id": "view-in-github",
        "colab_type": "text"
      },
      "source": [
        "<a href=\"https://colab.research.google.com/github/muharyaanandas/CNN-Waste-Classification/blob/main/MobileNet%20(2)_Adam%20(Adaptive%20Moment%20Estimation).ipynb\" target=\"_parent\"><img src=\"https://colab.research.google.com/assets/colab-badge.svg\" alt=\"Open In Colab\"/></a>"
      ]
    },
    {
      "cell_type": "code",
      "execution_count": null,
      "metadata": {
        "colab": {
          "base_uri": "https://localhost:8080/"
        },
        "id": "68dDDtWrl7KH",
        "outputId": "fc06551a-dd60-48ca-eda6-e371277166f2"
      },
      "outputs": [
        {
          "output_type": "stream",
          "name": "stdout",
          "text": [
            "Mounted at /content/drive/\n"
          ]
        }
      ],
      "source": [
        "# Load the Drive helper and mount\n",
        "from google.colab import drive\n",
        "\n",
        "# This will prompt for authorization.\n",
        "drive.mount('/content/drive/')"
      ]
    },
    {
      "cell_type": "code",
      "source": [
        "#Read all image types\n",
        "\n",
        "def list_images(basePath, contains=None):\n",
        "    # return the set of files that are valid\n",
        "    return list_files(basePath, validExts=(\".jpg\", \".jpeg\", \".png\", \".bmp\", \".tif\", \".tiff\"), contains=contains)\n",
        "\n",
        "def list_files(basePath, validExts=(\".jpg\", \".jpeg\", \".png\", \".bmp\", \".tif\", \".tiff\"), contains=None):\n",
        "    # loop over the directory structure\n",
        "    for (rootDir, dirNames, filenames) in os.walk(basePath):\n",
        "        # loop over the filenames in the current directory\n",
        "        for filename in filenames:\n",
        "            # if the contains string is not none and the filename does not contain\n",
        "            # the supplied string, then ignore the file\n",
        "            if contains is not None and filename.find(contains) == -1:\n",
        "                continue\n",
        "\n",
        "            # determine the file extension of the current file\n",
        "            ext = filename[filename.rfind(\".\"):].lower()\n",
        "\n",
        "            # check to see if the file is an image and should be processed\n",
        "            if ext.endswith(validExts):\n",
        "                # construct the path to the image and yield it\n",
        "                imagePath = os.path.join(rootDir, filename).replace(\" \", \"\\\\ \")\n",
        "                yield imagePath"
      ],
      "metadata": {
        "id": "02PpRO6pmO5l"
      },
      "execution_count": null,
      "outputs": []
    },
    {
      "cell_type": "code",
      "source": [
        "import os, glob, cv2, numpy as np\n",
        "import pandas as pd\n",
        "import matplotlib.pyplot as plt\n",
        "import tensorflow as tf\n",
        "from sklearn.model_selection import train_test_split\n",
        "from sklearn.metrics import classification_report\n",
        "from keras.preprocessing.image import ImageDataGenerator\n",
        "from tensorflow.keras.applications import MobileNet\n",
        "from tensorflow.keras.models import Model\n",
        "from tensorflow.keras.layers import GlobalAveragePooling2D, Dense\n",
        "from tensorflow.keras.optimizers import Adam\n",
        "from tensorflow.keras.callbacks import ModelCheckpoint\n",
        "from sklearn.metrics import accuracy_score"
      ],
      "metadata": {
        "id": "UMF4SwR0mS_P"
      },
      "execution_count": null,
      "outputs": []
    },
    {
      "cell_type": "code",
      "source": [
        "# Directory paths\n",
        "dataset_dir = '/content/drive/MyDrive/Klasifikasi_Sampah/Dataset'\n",
        "dirs = os.listdir(dataset_dir)\n",
        "class_label = 0\n",
        "images = []\n",
        "labels = []\n",
        "data_list = []\n",
        "class_list = []\n",
        "\n",
        "for dir_name in dirs:\n",
        "    img_count = 0\n",
        "    path = os.path.join(dataset_dir, dir_name)\n",
        "    for image_file in glob.glob(os.path.join(path, '*')):\n",
        "        img = cv2.imread(image_file)\n",
        "        if img is not None:\n",
        "            img = cv2.cvtColor(img, cv2.COLOR_BGR2RGB)\n",
        "            img = cv2.resize(img, (224, 224))\n",
        "            img_count += 1\n",
        "            data_list.append(img)\n",
        "            labels.append(class_label)\n",
        "    print(f\"Total {dir_name} images: {img_count}\")\n",
        "    class_label += 1\n",
        "    class_list.append(dir_name)\n",
        "\n",
        "data_array = np.array(data_list) / 255.0\n",
        "labels_array = np.array(labels)"
      ],
      "metadata": {
        "colab": {
          "base_uri": "https://localhost:8080/"
        },
        "id": "18z_FTo9mWra",
        "outputId": "0f9e176e-4163-4133-8daf-3e001ed534b0"
      },
      "execution_count": null,
      "outputs": [
        {
          "output_type": "stream",
          "name": "stdout",
          "text": [
            "Total Organik images: 100\n",
            "Total Anorganik images: 109\n",
            "Total B3 images: 101\n"
          ]
        }
      ]
    },
    {
      "cell_type": "code",
      "source": [
        "# Encode labels\n",
        "from sklearn.preprocessing import LabelBinarizer\n",
        "\n",
        "label_binarizer = LabelBinarizer()\n",
        "encoded_labels = label_binarizer.fit_transform(labels_array)\n",
        "\n",
        "# Splitting dataset\n",
        "X_train, X_test, Y_train, Y_test = train_test_split(data_array, encoded_labels, test_size=0.2, stratify=encoded_labels, random_state=24)\n",
        "\n",
        "# MobileNet as base model\n",
        "mobilenet_base = MobileNet(weights=\"imagenet\", include_top=False, input_shape=(224, 224, 3))\n",
        "net_output = mobilenet_base.output\n",
        "net_output = GlobalAveragePooling2D()(net_output)\n",
        "net_output = Dense(128, activation='relu')(net_output)\n",
        "final_output = Dense(3, activation='softmax')(net_output)"
      ],
      "metadata": {
        "colab": {
          "base_uri": "https://localhost:8080/"
        },
        "id": "-Tltkv7SmeSu",
        "outputId": "0e5a8263-ee8c-439a-96ff-8a2c33995390"
      },
      "execution_count": null,
      "outputs": [
        {
          "output_type": "stream",
          "name": "stdout",
          "text": [
            "Downloading data from https://storage.googleapis.com/tensorflow/keras-applications/mobilenet/mobilenet_1_0_224_tf_no_top.h5\n",
            "17225924/17225924 [==============================] - 0s 0us/step\n"
          ]
        }
      ]
    },
    {
      "cell_type": "code",
      "source": [
        "# Constructing final model\n",
        "final_model = Model(inputs=mobilenet_base.input, outputs=final_output)\n",
        "\n",
        "# Freezing base layers\n",
        "for layer in mobilenet_base.layers:\n",
        "    layer.trainable = False\n",
        "\n",
        "# Data augmentation\n",
        "augmenter = ImageDataGenerator(rotation_range=15, fill_mode=\"nearest\")\n",
        "\n",
        "# Model compilation\n",
        "initial_learning_rate = 0.001\n",
        "optimizer = Adam(lr=initial_learning_rate)\n",
        "final_model.compile(loss=\"categorical_crossentropy\", optimizer=optimizer, metrics=[\"accuracy\"])"
      ],
      "metadata": {
        "colab": {
          "base_uri": "https://localhost:8080/"
        },
        "id": "jYkSM4jTmprX",
        "outputId": "680e7238-e97d-4c8f-e846-bf3dd5f6de83"
      },
      "execution_count": null,
      "outputs": [
        {
          "output_type": "stream",
          "name": "stderr",
          "text": [
            "WARNING:absl:`lr` is deprecated in Keras optimizer, please use `learning_rate` or use the legacy optimizer, e.g.,tf.keras.optimizers.legacy.Adam.\n"
          ]
        }
      ]
    },
    {
      "cell_type": "code",
      "source": [
        "# Model checkpoint setup\n",
        "checkpoint_dir = '/content/drive/MyDrive/Klasifikasi_Sampah/MobileNet/Epoch_25_Adam/Model.hdf5'\n",
        "checkpoint = ModelCheckpoint(filepath=checkpoint_dir, save_best_only=True, monitor='val_accuracy', mode='max')\n",
        "\n",
        "# Model training\n",
        "training_history = final_model.fit_generator(\n",
        "    augmenter.flow(X_train, Y_train, batch_size=35),\n",
        "    steps_per_epoch=len(X_train) // 35,\n",
        "    epochs=25,\n",
        "    validation_data=(X_test, Y_test),\n",
        "    callbacks=[checkpoint]\n",
        ")\n",
        "\n",
        "print(\"Highest Training Accuracy:\", max(training_history.history['accuracy']))\n",
        "print(\"Highest Validation Accuracy:\", max(training_history.history['val_accuracy']))"
      ],
      "metadata": {
        "colab": {
          "base_uri": "https://localhost:8080/"
        },
        "id": "brcppS-Vm569",
        "outputId": "72635d03-f2b1-4e16-8df8-c46f1e4f1941"
      },
      "execution_count": null,
      "outputs": [
        {
          "output_type": "stream",
          "name": "stderr",
          "text": [
            "<ipython-input-8-f4019424f210>:6: UserWarning: `Model.fit_generator` is deprecated and will be removed in a future version. Please use `Model.fit`, which supports generators.\n",
            "  training_history = final_model.fit_generator(\n"
          ]
        },
        {
          "output_type": "stream",
          "name": "stdout",
          "text": [
            "Epoch 1/25\n",
            "7/7 [==============================] - ETA: 0s - loss: 1.1795 - accuracy: 0.5023"
          ]
        },
        {
          "output_type": "stream",
          "name": "stderr",
          "text": [
            "/usr/local/lib/python3.10/dist-packages/keras/src/engine/training.py:3103: UserWarning: You are saving your model as an HDF5 file via `model.save()`. This file format is considered legacy. We recommend using instead the native Keras format, e.g. `model.save('my_model.keras')`.\n",
            "  saving_api.save_model(\n"
          ]
        },
        {
          "output_type": "stream",
          "name": "stdout",
          "text": [
            "\b\b\b\b\b\b\b\b\b\b\b\b\b\b\b\b\b\b\b\b\b\b\b\b\b\b\b\b\b\b\b\b\b\b\b\b\b\b\b\b\b\b\b\b\b\b\b\b\b\b\b\b\b\b\b\b\b\b\b\b\b\b\b\b\b\b\b\b\b\b\b\b\b\b\b\b\b\b\b\b\r7/7 [==============================] - 21s 3s/step - loss: 1.1795 - accuracy: 0.5023 - val_loss: 0.9214 - val_accuracy: 0.5161\n",
            "Epoch 2/25\n",
            "7/7 [==============================] - 19s 3s/step - loss: 0.6189 - accuracy: 0.7230 - val_loss: 0.7451 - val_accuracy: 0.7742\n",
            "Epoch 3/25\n",
            "7/7 [==============================] - 24s 4s/step - loss: 0.4848 - accuracy: 0.8028 - val_loss: 0.7032 - val_accuracy: 0.7097\n",
            "Epoch 4/25\n",
            "7/7 [==============================] - 16s 2s/step - loss: 0.3564 - accuracy: 0.8592 - val_loss: 0.6004 - val_accuracy: 0.7419\n",
            "Epoch 5/25\n",
            "7/7 [==============================] - 17s 2s/step - loss: 0.2805 - accuracy: 0.9202 - val_loss: 0.5369 - val_accuracy: 0.8065\n",
            "Epoch 6/25\n",
            "7/7 [==============================] - 20s 3s/step - loss: 0.1834 - accuracy: 0.9510 - val_loss: 0.5239 - val_accuracy: 0.8065\n",
            "Epoch 7/25\n",
            "7/7 [==============================] - 17s 2s/step - loss: 0.1390 - accuracy: 0.9624 - val_loss: 0.4778 - val_accuracy: 0.8226\n",
            "Epoch 8/25\n",
            "7/7 [==============================] - 17s 2s/step - loss: 0.1114 - accuracy: 0.9812 - val_loss: 0.4879 - val_accuracy: 0.8387\n",
            "Epoch 9/25\n",
            "7/7 [==============================] - 16s 2s/step - loss: 0.1121 - accuracy: 0.9812 - val_loss: 0.5941 - val_accuracy: 0.8226\n",
            "Epoch 10/25\n",
            "7/7 [==============================] - 24s 3s/step - loss: 0.0928 - accuracy: 0.9796 - val_loss: 0.5818 - val_accuracy: 0.8387\n",
            "Epoch 11/25\n",
            "7/7 [==============================] - 16s 2s/step - loss: 0.0618 - accuracy: 0.9906 - val_loss: 0.5769 - val_accuracy: 0.8387\n",
            "Epoch 12/25\n",
            "7/7 [==============================] - 16s 2s/step - loss: 0.0598 - accuracy: 0.9812 - val_loss: 0.5144 - val_accuracy: 0.8548\n",
            "Epoch 13/25\n",
            "7/7 [==============================] - 20s 3s/step - loss: 0.0571 - accuracy: 0.9918 - val_loss: 0.6009 - val_accuracy: 0.8548\n",
            "Epoch 14/25\n",
            "7/7 [==============================] - 17s 2s/step - loss: 0.0591 - accuracy: 0.9906 - val_loss: 0.5154 - val_accuracy: 0.8548\n",
            "Epoch 15/25\n",
            "7/7 [==============================] - 18s 3s/step - loss: 0.0608 - accuracy: 0.9765 - val_loss: 0.5973 - val_accuracy: 0.8548\n",
            "Epoch 16/25\n",
            "7/7 [==============================] - 16s 2s/step - loss: 0.0408 - accuracy: 0.9953 - val_loss: 0.6522 - val_accuracy: 0.8548\n",
            "Epoch 17/25\n",
            "7/7 [==============================] - 16s 2s/step - loss: 0.0264 - accuracy: 1.0000 - val_loss: 0.5640 - val_accuracy: 0.8387\n",
            "Epoch 18/25\n",
            "7/7 [==============================] - 16s 2s/step - loss: 0.0337 - accuracy: 0.9953 - val_loss: 0.7098 - val_accuracy: 0.8226\n",
            "Epoch 19/25\n",
            "7/7 [==============================] - 17s 2s/step - loss: 0.0399 - accuracy: 0.9953 - val_loss: 0.5873 - val_accuracy: 0.8710\n",
            "Epoch 20/25\n",
            "7/7 [==============================] - 16s 2s/step - loss: 0.1180 - accuracy: 0.9671 - val_loss: 0.6809 - val_accuracy: 0.8065\n",
            "Epoch 21/25\n",
            "7/7 [==============================] - 16s 2s/step - loss: 0.1294 - accuracy: 0.9671 - val_loss: 0.8085 - val_accuracy: 0.8226\n",
            "Epoch 22/25\n",
            "7/7 [==============================] - 17s 2s/step - loss: 0.0619 - accuracy: 0.9959 - val_loss: 0.5837 - val_accuracy: 0.8226\n",
            "Epoch 23/25\n",
            "7/7 [==============================] - 16s 3s/step - loss: 0.0604 - accuracy: 0.9953 - val_loss: 0.6357 - val_accuracy: 0.8548\n",
            "Epoch 24/25\n",
            "7/7 [==============================] - 16s 2s/step - loss: 0.0500 - accuracy: 0.9953 - val_loss: 0.6502 - val_accuracy: 0.8548\n",
            "Epoch 25/25\n",
            "7/7 [==============================] - 16s 2s/step - loss: 0.0371 - accuracy: 0.9953 - val_loss: 0.6277 - val_accuracy: 0.8226\n",
            "Highest Training Accuracy: 1.0\n",
            "Highest Validation Accuracy: 0.8709677457809448\n"
          ]
        }
      ]
    },
    {
      "cell_type": "code",
      "source": [
        "# Load and evaluate the trained model\n",
        "trained_model = tf.keras.models.load_model(checkpoint_dir)\n",
        "train_predictions = trained_model.predict(X_train)\n",
        "predicted_labels = np.argmax(train_predictions, axis=1)\n",
        "true_labels = np.argmax(Y_train, axis=1)\n",
        "\n",
        "print(classification_report(true_labels, predicted_labels))\n",
        "print(\"Training Set Accuracy:\", accuracy_score(true_labels, predicted_labels))"
      ],
      "metadata": {
        "colab": {
          "base_uri": "https://localhost:8080/"
        },
        "id": "3MXC-nCinV-v",
        "outputId": "474c4ef7-2da5-4797-80c7-56d5784dbfaf"
      },
      "execution_count": null,
      "outputs": [
        {
          "output_type": "stream",
          "name": "stdout",
          "text": [
            "8/8 [==============================] - 11s 1s/step\n",
            "              precision    recall  f1-score   support\n",
            "\n",
            "           0       1.00      1.00      1.00        80\n",
            "           1       1.00      0.98      0.99        87\n",
            "           2       0.98      1.00      0.99        81\n",
            "\n",
            "    accuracy                           0.99       248\n",
            "   macro avg       0.99      0.99      0.99       248\n",
            "weighted avg       0.99      0.99      0.99       248\n",
            "\n",
            "Training Set Accuracy: 0.9919354838709677\n"
          ]
        }
      ]
    },
    {
      "cell_type": "code",
      "source": [
        "# Model conversion to TensorFlow Lite format\n",
        "tflite_converter = tf.lite.TFLiteConverter.from_keras_model(trained_model)\n",
        "tflite_model = tflite_converter.convert()\n",
        "tflite_model_path = '/content/drive/MyDrive/Klasifikasi_Sampah/MobileNet/Epoch_25_Adam/model.tflite'\n",
        "with open(tflite_model_path, 'wb') as f:\n",
        "    f.write(tflite_model)\n",
        "\n",
        "# Plotting training results\n",
        "plt.figure(figsize=(10, 5))\n",
        "plt.subplot(1, 2, 1)\n",
        "plt.plot(training_history.history['accuracy'], label='Train')\n",
        "plt.plot(training_history.history['val_accuracy'], label='Validation')\n",
        "plt.title('Model Accuracy')\n",
        "plt.xlabel('Epoch')\n",
        "plt.ylabel('Accuracy')\n",
        "plt.legend(loc='lower right')\n",
        "\n",
        "plt.subplot(1, 2, 2)\n",
        "plt.plot(training_history.history['loss'], label='Train')\n",
        "plt.plot(training_history.history['val_loss'], label='Validation')\n",
        "plt.title('Model Loss')\n",
        "plt.xlabel('Epoch')\n",
        "plt.ylabel('Loss')\n",
        "plt.legend(loc='upper right')\n",
        "plt.show()"
      ],
      "metadata": {
        "colab": {
          "base_uri": "https://localhost:8080/",
          "height": 487
        },
        "id": "OQuWhcglnaJA",
        "outputId": "e5d91885-d7d7-413f-eb64-bf8a50bd06bc"
      },
      "execution_count": null,
      "outputs": [
        {
          "output_type": "display_data",
          "data": {
            "text/plain": [
              "<Figure size 1000x500 with 2 Axes>"
            ],
            "image/png": "[encoded data removed]"
          },
          "metadata": {}
        }
      ]
    }
  ]
}